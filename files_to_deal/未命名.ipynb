{
 "cells": [
  {
   "cell_type": "code",
   "execution_count": 3,
   "metadata": {},
   "outputs": [
    {
     "name": "stdout",
     "output_type": "stream",
     "text": [
      "[1, 2, 3, 4, 5]\n"
     ]
    }
   ],
   "source": [
    "# coding=utf-8\n",
    "# 创建字典用于储存替换名字和编号，防止同名同姓\n",
    "name = []\n",
    "# 创建替换名字的编号\n",
    "\n",
    "\n",
    "def add_a():\n",
    "    global a\n",
    "    name.append(a)\n",
    "    a += 1\n",
    "\n",
    "\n",
    "if __name__ == '__main__':\n",
    "    a = 1\n",
    "    for i in range(5):\n",
    "        add_a()\n",
    "    print(name)"
   ]
  },
  {
   "cell_type": "markdown",
   "metadata": {},
   "source": [
    "可以在主函数声明全局变量"
   ]
  },
  {
   "cell_type": "code",
   "execution_count": 4,
   "metadata": {},
   "outputs": [
    {
     "name": "stdout",
     "output_type": "stream",
     "text": [
      "请输入要读取的正确的docx文件路径:/home/liutong/桌面/my_works/files_to_deal/2.docx\n",
      "请输入要写入的正确的docx文件路径，如果与读取路径重名将覆盖源文件，请慎重:/home/liutong/桌面/my_works/files_to_deal/５.docx\n"
     ]
    }
   ],
   "source": [
    "# coding = utf-8\n",
    "import docx\n",
    "from multiprocessing import Process\n",
    "\n",
    "\n",
    "def clear_all_user_information(t):\n",
    "    # 判断是否为含有编号的单元格，含有即为用户信息表\n",
    "    if t.cell(0, 0).text == '编号':\n",
    "        # 创建变量m收集行数，每张表进行一次初始化\n",
    "        m = 0\n",
    "\n",
    "        # 遍历行\n",
    "        for i in range(len(t.rows)):\n",
    "            # 创建变量n收集列数，每行进行一次初始化\n",
    "            n = 0\n",
    "            # 统计行数\n",
    "            m += 1\n",
    "            # 每遍历一次行遍历该行中所有列\n",
    "            for j in range(len(t.rows[i].cells)):\n",
    "                # 统计列数\n",
    "                n += 1\n",
    "                # 判断如果为第二行则开始清洗内容\n",
    "                if i >= 1:\n",
    "                    # 清空段落数据\n",
    "                    run = t.cell(i, j).paragraphs[0].clear()\n",
    "        # 合并单元格\n",
    "        t.cell(1, 0).merge(t.cell(m - 1, n - 1))\n",
    "\n",
    "\n",
    "if __name__ == '__main__':\n",
    "    # 输入正确的文件路径\n",
    "    file = docx.Document(input('请输入要读取的正确的docx文件路径:'))\n",
    "    # 读取所有表格\n",
    "    tables = file.tables\n",
    "    # 遍历所有表，迭代得出每一张表\n",
    "    for i in range(len(tables)):\n",
    "        # 将每一张表传递给参数t\n",
    "        t = tables[i]\n",
    "        # Process 对象只是一个子任务，运行该任务时系统会自动创建一个子进程\n",
    "        p = Process(target=clear_all_user_information(t))\n",
    "        # 启动一个子进程来运行子任务\n",
    "        p.start()\n",
    "        p.join()\n",
    "        # 子进程完成后，继续运行主进程,保存文件\n",
    "    file.save(input('请输入要写入的正确的docx文件路径，如果与读取路径重名将覆盖源文件，请慎重:'))\n"
   ]
  },
  {
   "cell_type": "markdown",
   "metadata": {},
   "source": [
    "多进程应用"
   ]
  }
 ],
 "metadata": {
  "kernelspec": {
   "display_name": "Python 3",
   "language": "python",
   "name": "python3"
  },
  "language_info": {
   "codemirror_mode": {
    "name": "ipython",
    "version": 3
   },
   "file_extension": ".py",
   "mimetype": "text/x-python",
   "name": "python",
   "nbconvert_exporter": "python",
   "pygments_lexer": "ipython3",
   "version": "3.7.3"
  }
 },
 "nbformat": 4,
 "nbformat_minor": 2
}
