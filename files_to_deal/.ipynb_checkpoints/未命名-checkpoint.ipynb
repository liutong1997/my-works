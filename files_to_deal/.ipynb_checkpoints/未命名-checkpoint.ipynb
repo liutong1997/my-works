{
 "cells": [
  {
   "cell_type": "code",
   "execution_count": 3,
   "metadata": {},
   "outputs": [
    {
     "name": "stdout",
     "output_type": "stream",
     "text": [
      "[1, 2, 3, 4, 5]\n"
     ]
    }
   ],
   "source": [
    "# coding=utf-8\n",
    "# 创建字典用于储存替换名字和编号，防止同名同姓\n",
    "name = []\n",
    "# 创建替换名字的编号\n",
    "\n",
    "\n",
    "def add_a():\n",
    "    global a\n",
    "    name.append(a)\n",
    "    a += 1\n",
    "\n",
    "\n",
    "if __name__ == '__main__':\n",
    "    a = 1\n",
    "    for i in range(5):\n",
    "        add_a()\n",
    "    print(name)"
   ]
  },
  {
   "cell_type": "markdown",
   "metadata": {},
   "source": [
    "可以在主函数声明全局变量"
   ]
  },
  {
   "cell_type": "code",
   "execution_count": 4,
   "metadata": {},
   "outputs": [
    {
     "name": "stdout",
     "output_type": "stream",
     "text": [
      "请输入要读取的正确的docx文件路径:/home/liutong/桌面/my_works/files_to_deal/2.docx\n",
      "请输入要写入的正确的docx文件路径，如果与读取路径重名将覆盖源文件，请慎重:/home/liutong/桌面/my_works/files_to_deal/５.docx\n"
     ]
    }
   ],
   "source": [
    "# coding = utf-8\n",
    "import docx\n",
    "from multiprocessing import Process\n",
    "\n",
    "\n",
    "def clear_all_user_information(t):\n",
    "    # 判断是否为含有编号的单元格，含有即为用户信息表\n",
    "    if t.cell(0, 0).text == '编号':\n",
    "        # 创建变量m收集行数，每张表进行一次初始化\n",
    "        m = 0\n",
    "\n",
    "        # 遍历行\n",
    "        for i in range(len(t.rows)):\n",
    "            # 创建变量n收集列数，每行进行一次初始化\n",
    "            n = 0\n",
    "            # 统计行数\n",
    "            m += 1\n",
    "            # 每遍历一次行遍历该行中所有列\n",
    "            for j in range(len(t.rows[i].cells)):\n",
    "                # 统计列数\n",
    "                n += 1\n",
    "                # 判断如果为第二行则开始清洗内容\n",
    "                if i >= 1:\n",
    "                    # 清空段落数据\n",
    "                    run = t.cell(i, j).paragraphs[0].clear()\n",
    "        # 合并单元格\n",
    "        t.cell(1, 0).merge(t.cell(m - 1, n - 1))\n",
    "\n",
    "\n",
    "if __name__ == '__main__':\n",
    "    # 输入正确的文件路径\n",
    "    file = docx.Document(input('请输入要读取的正确的docx文件路径:'))\n",
    "    # 读取所有表格\n",
    "    tables = file.tables\n",
    "    # 遍历所有表，迭代得出每一张表\n",
    "    for i in range(len(tables)):\n",
    "        # 将每一张表传递给参数t\n",
    "        t = tables[i]\n",
    "        # Process 对象只是一个子任务，运行该任务时系统会自动创建一个子进程\n",
    "        p = Process(target=clear_all_user_information(t))\n",
    "        # 启动一个子进程来运行子任务\n",
    "        p.start()\n",
    "        p.join()\n",
    "        # 子进程完成后，继续运行主进程,保存文件\n",
    "    file.save(input('请输入要写入的正确的docx文件路径，如果与读取路径重名将覆盖源文件，请慎重:'))\n"
   ]
  },
  {
   "cell_type": "markdown",
   "metadata": {},
   "source": [
    "多进程应用"
   ]
  },
  {
   "cell_type": "code",
   "execution_count": 2,
   "metadata": {},
   "outputs": [
    {
     "data": {
      "text/plain": [
       "{(0, 0, 0): <mpl_toolkits.mplot3d.art3d.Poly3DCollection at 0x7fd8d9024a90>,\n",
       " (0, 0, 3): <mpl_toolkits.mplot3d.art3d.Poly3DCollection at 0x7fd8d9024c88>,\n",
       " (0, 1, 0): <mpl_toolkits.mplot3d.art3d.Poly3DCollection at 0x7fd8d9024eb8>,\n",
       " (0, 1, 3): <mpl_toolkits.mplot3d.art3d.Poly3DCollection at 0x7fd8d8fb6128>,\n",
       " (0, 2, 0): <mpl_toolkits.mplot3d.art3d.Poly3DCollection at 0x7fd8d8fb6390>,\n",
       " (0, 2, 3): <mpl_toolkits.mplot3d.art3d.Poly3DCollection at 0x7fd8d8fb65f8>,\n",
       " (0, 3, 0): <mpl_toolkits.mplot3d.art3d.Poly3DCollection at 0x7fd8d8fb6860>,\n",
       " (0, 3, 3): <mpl_toolkits.mplot3d.art3d.Poly3DCollection at 0x7fd8d8fb6ac8>,\n",
       " (1, 0, 0): <mpl_toolkits.mplot3d.art3d.Poly3DCollection at 0x7fd8d8fb6d30>,\n",
       " (1, 0, 3): <mpl_toolkits.mplot3d.art3d.Poly3DCollection at 0x7fd8d8fb6f98>,\n",
       " (1, 1, 0): <mpl_toolkits.mplot3d.art3d.Poly3DCollection at 0x7fd8d8fc2240>,\n",
       " (1, 1, 3): <mpl_toolkits.mplot3d.art3d.Poly3DCollection at 0x7fd8d8fc24a8>,\n",
       " (1, 2, 0): <mpl_toolkits.mplot3d.art3d.Poly3DCollection at 0x7fd8d8fc2710>,\n",
       " (1, 2, 3): <mpl_toolkits.mplot3d.art3d.Poly3DCollection at 0x7fd8d8fc2978>,\n",
       " (1, 3, 0): <mpl_toolkits.mplot3d.art3d.Poly3DCollection at 0x7fd8d8fc2be0>,\n",
       " (1, 3, 3): <mpl_toolkits.mplot3d.art3d.Poly3DCollection at 0x7fd8d8fc2e48>,\n",
       " (2, 0, 0): <mpl_toolkits.mplot3d.art3d.Poly3DCollection at 0x7fd8d8fcf0f0>,\n",
       " (2, 0, 3): <mpl_toolkits.mplot3d.art3d.Poly3DCollection at 0x7fd8d8fcf358>,\n",
       " (2, 1, 0): <mpl_toolkits.mplot3d.art3d.Poly3DCollection at 0x7fd8d8fcf5c0>,\n",
       " (2, 1, 3): <mpl_toolkits.mplot3d.art3d.Poly3DCollection at 0x7fd8d8fcf828>,\n",
       " (2, 2, 0): <mpl_toolkits.mplot3d.art3d.Poly3DCollection at 0x7fd8d8fcfa90>,\n",
       " (2, 2, 3): <mpl_toolkits.mplot3d.art3d.Poly3DCollection at 0x7fd8d8fcfcf8>,\n",
       " (2, 3, 0): <mpl_toolkits.mplot3d.art3d.Poly3DCollection at 0x7fd8d8fcff60>,\n",
       " (2, 3, 3): <mpl_toolkits.mplot3d.art3d.Poly3DCollection at 0x7fd8d8fdc208>,\n",
       " (3, 0, 0): <mpl_toolkits.mplot3d.art3d.Poly3DCollection at 0x7fd8d8fdc470>,\n",
       " (3, 0, 3): <mpl_toolkits.mplot3d.art3d.Poly3DCollection at 0x7fd8d8fdc6d8>,\n",
       " (3, 1, 0): <mpl_toolkits.mplot3d.art3d.Poly3DCollection at 0x7fd8d8fdc940>,\n",
       " (3, 1, 3): <mpl_toolkits.mplot3d.art3d.Poly3DCollection at 0x7fd8d8fdcba8>,\n",
       " (3, 2, 0): <mpl_toolkits.mplot3d.art3d.Poly3DCollection at 0x7fd8d8fdce10>,\n",
       " (3, 2, 3): <mpl_toolkits.mplot3d.art3d.Poly3DCollection at 0x7fd8d8fe90b8>,\n",
       " (3, 3, 0): <mpl_toolkits.mplot3d.art3d.Poly3DCollection at 0x7fd8d8fe9320>,\n",
       " (3, 3, 4): <mpl_toolkits.mplot3d.art3d.Poly3DCollection at 0x7fd8d8fe9588>,\n",
       " (3, 4, 3): <mpl_toolkits.mplot3d.art3d.Poly3DCollection at 0x7fd8d8fe97f0>,\n",
       " (3, 4, 4): <mpl_toolkits.mplot3d.art3d.Poly3DCollection at 0x7fd8d8fe9a58>,\n",
       " (4, 3, 3): <mpl_toolkits.mplot3d.art3d.Poly3DCollection at 0x7fd8d8fe9cc0>,\n",
       " (4, 3, 4): <mpl_toolkits.mplot3d.art3d.Poly3DCollection at 0x7fd8d8fe9f28>,\n",
       " (4, 4, 3): <mpl_toolkits.mplot3d.art3d.Poly3DCollection at 0x7fd8d8f751d0>,\n",
       " (4, 4, 5): <mpl_toolkits.mplot3d.art3d.Poly3DCollection at 0x7fd8d8f75438>,\n",
       " (4, 5, 4): <mpl_toolkits.mplot3d.art3d.Poly3DCollection at 0x7fd8d8f756a0>,\n",
       " (4, 5, 5): <mpl_toolkits.mplot3d.art3d.Poly3DCollection at 0x7fd8d8f75908>,\n",
       " (5, 4, 4): <mpl_toolkits.mplot3d.art3d.Poly3DCollection at 0x7fd8d8f75b70>,\n",
       " (5, 4, 5): <mpl_toolkits.mplot3d.art3d.Poly3DCollection at 0x7fd8d8f75dd8>,\n",
       " (5, 5, 4): <mpl_toolkits.mplot3d.art3d.Poly3DCollection at 0x7fd8d8f83080>,\n",
       " (5, 5, 6): <mpl_toolkits.mplot3d.art3d.Poly3DCollection at 0x7fd8d8f832e8>,\n",
       " (5, 6, 5): <mpl_toolkits.mplot3d.art3d.Poly3DCollection at 0x7fd8d8f83550>,\n",
       " (5, 6, 6): <mpl_toolkits.mplot3d.art3d.Poly3DCollection at 0x7fd8d8f837b8>,\n",
       " (6, 5, 5): <mpl_toolkits.mplot3d.art3d.Poly3DCollection at 0x7fd8d8f83a20>,\n",
       " (6, 5, 6): <mpl_toolkits.mplot3d.art3d.Poly3DCollection at 0x7fd8d8f83c88>,\n",
       " (6, 6, 5): <mpl_toolkits.mplot3d.art3d.Poly3DCollection at 0x7fd8d8f83ef0>,\n",
       " (6, 6, 8): <mpl_toolkits.mplot3d.art3d.Poly3DCollection at 0x7fd8d8f8f198>,\n",
       " (6, 7, 6): <mpl_toolkits.mplot3d.art3d.Poly3DCollection at 0x7fd8d8f8f400>,\n",
       " (6, 7, 8): <mpl_toolkits.mplot3d.art3d.Poly3DCollection at 0x7fd8d8f8f668>,\n",
       " (6, 8, 6): <mpl_toolkits.mplot3d.art3d.Poly3DCollection at 0x7fd8d8f8f8d0>,\n",
       " (6, 8, 8): <mpl_toolkits.mplot3d.art3d.Poly3DCollection at 0x7fd8d8f8fb38>,\n",
       " (7, 6, 6): <mpl_toolkits.mplot3d.art3d.Poly3DCollection at 0x7fd8d8f8fda0>,\n",
       " (7, 6, 8): <mpl_toolkits.mplot3d.art3d.Poly3DCollection at 0x7fd8d8f9c048>,\n",
       " (7, 7, 6): <mpl_toolkits.mplot3d.art3d.Poly3DCollection at 0x7fd8d8f9c2b0>,\n",
       " (7, 7, 8): <mpl_toolkits.mplot3d.art3d.Poly3DCollection at 0x7fd8d8f9c518>,\n",
       " (7, 8, 6): <mpl_toolkits.mplot3d.art3d.Poly3DCollection at 0x7fd8d8f9c780>,\n",
       " (7, 8, 8): <mpl_toolkits.mplot3d.art3d.Poly3DCollection at 0x7fd8d8f9c9e8>,\n",
       " (8, 6, 6): <mpl_toolkits.mplot3d.art3d.Poly3DCollection at 0x7fd8d8f9cc50>,\n",
       " (8, 6, 8): <mpl_toolkits.mplot3d.art3d.Poly3DCollection at 0x7fd8d8f9ceb8>,\n",
       " (8, 7, 6): <mpl_toolkits.mplot3d.art3d.Poly3DCollection at 0x7fd8d8fa9160>,\n",
       " (8, 7, 8): <mpl_toolkits.mplot3d.art3d.Poly3DCollection at 0x7fd8d8fa93c8>,\n",
       " (8, 8, 6): <mpl_toolkits.mplot3d.art3d.Poly3DCollection at 0x7fd8d8fa9630>,\n",
       " (8, 8, 8): <mpl_toolkits.mplot3d.art3d.Poly3DCollection at 0x7fd8d8fa9898>,\n",
       " (0, 0, 1): <mpl_toolkits.mplot3d.art3d.Poly3DCollection at 0x7fd8d8fa9b00>,\n",
       " (3, 0, 1): <mpl_toolkits.mplot3d.art3d.Poly3DCollection at 0x7fd8d8fa9d68>,\n",
       " (0, 0, 2): <mpl_toolkits.mplot3d.art3d.Poly3DCollection at 0x7fd8d8fa9fd0>,\n",
       " (3, 0, 2): <mpl_toolkits.mplot3d.art3d.Poly3DCollection at 0x7fd8d8f37278>,\n",
       " (0, 1, 1): <mpl_toolkits.mplot3d.art3d.Poly3DCollection at 0x7fd8d8f374e0>,\n",
       " (3, 1, 1): <mpl_toolkits.mplot3d.art3d.Poly3DCollection at 0x7fd8d8f37748>,\n",
       " (0, 1, 2): <mpl_toolkits.mplot3d.art3d.Poly3DCollection at 0x7fd8d8f379b0>,\n",
       " (3, 1, 2): <mpl_toolkits.mplot3d.art3d.Poly3DCollection at 0x7fd8d8f37c18>,\n",
       " (0, 2, 1): <mpl_toolkits.mplot3d.art3d.Poly3DCollection at 0x7fd8d8f37e80>,\n",
       " (3, 2, 1): <mpl_toolkits.mplot3d.art3d.Poly3DCollection at 0x7fd8d8f42128>,\n",
       " (0, 2, 2): <mpl_toolkits.mplot3d.art3d.Poly3DCollection at 0x7fd8d8f42390>,\n",
       " (3, 2, 2): <mpl_toolkits.mplot3d.art3d.Poly3DCollection at 0x7fd8d8f425f8>,\n",
       " (0, 3, 1): <mpl_toolkits.mplot3d.art3d.Poly3DCollection at 0x7fd8d8f42860>,\n",
       " (3, 3, 1): <mpl_toolkits.mplot3d.art3d.Poly3DCollection at 0x7fd8d8f42ac8>,\n",
       " (0, 3, 2): <mpl_toolkits.mplot3d.art3d.Poly3DCollection at 0x7fd8d8f42d30>,\n",
       " (3, 3, 2): <mpl_toolkits.mplot3d.art3d.Poly3DCollection at 0x7fd8d8f42f98>,\n",
       " (6, 6, 7): <mpl_toolkits.mplot3d.art3d.Poly3DCollection at 0x7fd8d8f4f240>,\n",
       " (8, 6, 7): <mpl_toolkits.mplot3d.art3d.Poly3DCollection at 0x7fd8d8f4f4a8>,\n",
       " (6, 7, 7): <mpl_toolkits.mplot3d.art3d.Poly3DCollection at 0x7fd8d8f4f710>,\n",
       " (8, 7, 7): <mpl_toolkits.mplot3d.art3d.Poly3DCollection at 0x7fd8d8f4f978>,\n",
       " (6, 8, 7): <mpl_toolkits.mplot3d.art3d.Poly3DCollection at 0x7fd8d8f4fbe0>,\n",
       " (8, 8, 7): <mpl_toolkits.mplot3d.art3d.Poly3DCollection at 0x7fd8d8f4fe48>,\n",
       " (1, 0, 1): <mpl_toolkits.mplot3d.art3d.Poly3DCollection at 0x7fd8d8f5b0f0>,\n",
       " (1, 3, 1): <mpl_toolkits.mplot3d.art3d.Poly3DCollection at 0x7fd8d8f5b358>,\n",
       " (2, 0, 1): <mpl_toolkits.mplot3d.art3d.Poly3DCollection at 0x7fd8d8f5b5c0>,\n",
       " (2, 3, 1): <mpl_toolkits.mplot3d.art3d.Poly3DCollection at 0x7fd8d8f5b828>,\n",
       " (1, 0, 2): <mpl_toolkits.mplot3d.art3d.Poly3DCollection at 0x7fd8d8f5ba90>,\n",
       " (1, 3, 2): <mpl_toolkits.mplot3d.art3d.Poly3DCollection at 0x7fd8d8f5bcf8>,\n",
       " (2, 0, 2): <mpl_toolkits.mplot3d.art3d.Poly3DCollection at 0x7fd8d8f5bf60>,\n",
       " (2, 3, 2): <mpl_toolkits.mplot3d.art3d.Poly3DCollection at 0x7fd8d8f68208>,\n",
       " (7, 6, 7): <mpl_toolkits.mplot3d.art3d.Poly3DCollection at 0x7fd8d8f68470>,\n",
       " (7, 8, 7): <mpl_toolkits.mplot3d.art3d.Poly3DCollection at 0x7fd8d8f686d8>}"
      ]
     },
     "execution_count": 2,
     "metadata": {},
     "output_type": "execute_result"
    },
    {
     "data": {
      "image/png": "[encoded data removed]",
      "text/plain": [
       "<Figure size 432x288 with 1 Axes>"
      ]
     },
     "metadata": {
      "needs_background": "light"
     },
     "output_type": "display_data"
    }
   ],
   "source": [
    "import matplotlib.pyplot as plt\n",
    "import numpy as np\n",
    "%matplotlib inline\n",
    "\n",
    "# This import registers the 3D projection, but is otherwise unused.\n",
    "from mpl_toolkits.mplot3d import Axes3D  # noqa: F401 unused import\n",
    "\n",
    "\n",
    "# prepare some coordinates\n",
    "x, y, z = np.indices((9, 9, 9))\n",
    "\n",
    "# draw cuboids in the top left and bottom right corners, and a link between them\n",
    "cube1 = (x < 4) & (y < 4) & (z < 4)\n",
    "cube2 = (x >= 6) & (y >= 6) & (z >= 6)\n",
    "link = abs(x - y) + abs(y - z) + abs(z - x) <= 2\n",
    "\n",
    "# combine the objects into a single boolean array\n",
    "voxels = cube1 | cube2 | link\n",
    "\n",
    "# set the colors of each object\n",
    "colors = np.empty(voxels.shape, dtype=object)\n",
    "colors[link] = 'red'\n",
    "colors[cube1] = 'blue'\n",
    "colors[cube2] = 'green'\n",
    "\n",
    "# and plot everything\n",
    "fig = plt.figure()\n",
    "ax = fig.gca(projection='3d')\n",
    "ax.voxels(voxels, facecolors=colors, edgecolor='k')\n",
    "\n",
    "# plt.show()"
   ]
  },
  {
   "cell_type": "code",
   "execution_count": 24,
   "metadata": {},
   "outputs": [
    {
     "name": "stdout",
     "output_type": "stream",
     "text": [
      "     A          B    C  D      E    F\n",
      "a  1.0 2013-01-02  4.0  3   test  foo\n",
      "b  1.0 2013-01-02 -1.0  3  train  foo\n",
      "c  1.0 2013-01-02 -5.0  3   test  foo\n",
      "d  1.0 2013-01-02  2.0  3  train  foo\n",
      "     A          B    C  D      E\n",
      "a  1.0 2013-01-02  4.0  3   test\n",
      "b  1.0 2013-01-02 -1.0  3  train\n",
      "c  1.0 2013-01-02 -5.0  3   test\n",
      "0.23.4\n",
      "     A          B    C  D      E    F\n",
      "c  1.0 2013-01-02 -5.0  3   test  foo\n",
      "d  1.0 2013-01-02  2.0  3  train  foo\n"
     ]
    }
   ],
   "source": [
    "import numpy as np\n",
    "import pandas as pd\n",
    "\n",
    "df2 = pd.DataFrame({'A': 1.,\n",
    "                    'B': pd.Timestamp('20130102'),\n",
    "                    'C': pd.Series(np.random.randint(-5,5,4), index=list('abcd'), dtype='float32').values,\n",
    "                    'D': np.array([3] * 4, dtype='int32'),\n",
    "                    'E': pd.Categorical([\"test\", \"train\", \"test\", \"train\"]),\n",
    "                    'F': 'foo'}, index=['a', 'b', 'c', 'd'])\n",
    "\n",
    "df = df2.drop(labels=['F'], axis=1)\n",
    "print(df2)\n",
    "print(df.drop(labels=['d'], axis=0))\n",
    "print(pd.__version__)\n",
    "df2.drop_duplicates('E', 'last', inplace = True) # 参数subset，keep，inplace。列名，保留，是否在原数据集修改\n",
    "print(df2)"
   ]
  },
  {
   "cell_type": "code",
   "execution_count": 38,
   "metadata": {},
   "outputs": [
    {
     "name": "stdout",
     "output_type": "stream",
     "text": [
      "               a\n",
      "2016-01-01     A\n",
      "2016-01-02     B\n",
      "2016-01-03     C\n",
      "2016-01-04  Aaba\n",
      "2016-01-05  Baca\n",
      "2016-01-06   NaN\n",
      "2016-01-07  CABA\n",
      "2016-01-08   dog\n",
      "2016-01-09   cat\n",
      "    key  one\n",
      "0  foo1    1\n",
      "1  foo2    2\n",
      "    key  two\n",
      "0  foo2    4\n",
      "1  foo3    5\n"
     ]
    },
    {
     "data": {
      "text/html": [
       "<div>\n",
       "<style scoped>\n",
       "    .dataframe tbody tr th:only-of-type {\n",
       "        vertical-align: middle;\n",
       "    }\n",
       "\n",
       "    .dataframe tbody tr th {\n",
       "        vertical-align: top;\n",
       "    }\n",
       "\n",
       "    .dataframe thead th {\n",
       "        text-align: right;\n",
       "    }\n",
       "</style>\n",
       "<table border=\"1\" class=\"dataframe\">\n",
       "  <thead>\n",
       "    <tr style=\"text-align: right;\">\n",
       "      <th></th>\n",
       "      <th>key</th>\n",
       "      <th>one</th>\n",
       "      <th>two</th>\n",
       "    </tr>\n",
       "  </thead>\n",
       "  <tbody>\n",
       "    <tr>\n",
       "      <th>0</th>\n",
       "      <td>foo2</td>\n",
       "      <td>2</td>\n",
       "      <td>4</td>\n",
       "    </tr>\n",
       "  </tbody>\n",
       "</table>\n",
       "</div>"
      ],
      "text/plain": [
       "    key  one  two\n",
       "0  foo2    2    4"
      ]
     },
     "execution_count": 38,
     "metadata": {},
     "output_type": "execute_result"
    }
   ],
   "source": [
    "dates = pd.date_range('20160101',periods=9)\n",
    "string = pd.Series(['A', 'B', 'C', 'Aaba', 'Baca',\n",
    "                    np.nan, 'CABA', 'dog', 'cat'], index = dates)\n",
    "# print(string)\n",
    "# print(string.str.upper())\n",
    "# print(string.str.lower())\n",
    "# print(string.str.capitalize())\n",
    "df = pd.DataFrame(string, index = dates, columns = ['a'])\n",
    "print(df)\n",
    "\n",
    "left = pd.DataFrame({'key': ['foo1', 'foo2'], 'one': [1, 2]})\n",
    "right = pd.DataFrame({'key': ['foo2', 'foo3'], 'two': [4, 5]})\n",
    "\n",
    "print(left)\n",
    "print(right)\n",
    "\n",
    "# 按照 key 列对齐连接，只存在 foo2 相同，所以最后变成一行\n",
    "pd.merge(left, right, on='key')"
   ]
  },
  {
   "cell_type": "code",
   "execution_count": 1,
   "metadata": {},
   "outputs": [
    {
     "name": "stdout",
     "output_type": "stream",
     "text": [
      "*****示例文件写入成功*****\n",
      "          A         B\n",
      "0 -0.216641 -0.070647\n",
      "1 -0.290099 -1.421058\n",
      "2 -0.455725 -1.013845\n",
      "3  0.669695 -1.043101\n",
      "4 -0.100036  1.122311\n",
      "5  1.477307  0.057588\n",
      "6 -1.750888 -0.886301\n",
      "7 -1.760984 -1.319301\n",
      "8  0.583805  0.973186\n",
      "9  0.653308 -0.932173\n",
      "          A         B\n",
      "0 -0.216641 -0.070647\n",
      "1 -0.290099 -1.421058\n",
      "2 -0.455725 -1.013845\n",
      "3  0.669695 -1.043101\n",
      "4 -0.100036  1.122311\n",
      "5  1.477307  0.057588\n",
      "6 -1.750888 -0.886301\n",
      "7 -1.760984 -1.319301\n",
      "8  0.583805  0.973186\n",
      "9  0.653308 -0.932173\n"
     ]
    }
   ],
   "source": [
    "import numpy as np\n",
    "import pandas as pd\n",
    "\n",
    "# 生成示例数据\n",
    "df = pd.DataFrame({'A': np.random.randn(10), 'B': np.random.randn(10)})\n",
    "\n",
    "# 写入数据文件\n",
    "df.to_csv('test.csv', index=None)  # CSV\n",
    "df.to_excel('test.xlsx')  # EXCEL\n",
    "print(\"*****示例文件写入成功*****\")\n",
    "\n",
    "df2 = pd.read_csv(\"test.csv\")\n",
    "df3 = pd.read_excel('test.xlsx', index_col = [0])\n",
    "print(df2)\n",
    "print(df3)"
   ]
  },
  {
   "cell_type": "code",
   "execution_count": 56,
   "metadata": {},
   "outputs": [
    {
     "data": {
      "text/html": [
       "<div>\n",
       "<style scoped>\n",
       "    .dataframe tbody tr th:only-of-type {\n",
       "        vertical-align: middle;\n",
       "    }\n",
       "\n",
       "    .dataframe tbody tr th {\n",
       "        vertical-align: top;\n",
       "    }\n",
       "\n",
       "    .dataframe thead th {\n",
       "        text-align: right;\n",
       "    }\n",
       "</style>\n",
       "<table border=\"1\" class=\"dataframe\">\n",
       "  <thead>\n",
       "    <tr style=\"text-align: right;\">\n",
       "      <th></th>\n",
       "      <th>C</th>\n",
       "      <th>D</th>\n",
       "    </tr>\n",
       "  </thead>\n",
       "  <tbody>\n",
       "    <tr>\n",
       "      <th>5</th>\n",
       "      <td>1.278975</td>\n",
       "      <td>1.122799</td>\n",
       "    </tr>\n",
       "    <tr>\n",
       "      <th>6</th>\n",
       "      <td>0.454247</td>\n",
       "      <td>0.141990</td>\n",
       "    </tr>\n",
       "    <tr>\n",
       "      <th>7</th>\n",
       "      <td>0.227862</td>\n",
       "      <td>1.092590</td>\n",
       "    </tr>\n",
       "    <tr>\n",
       "      <th>8</th>\n",
       "      <td>-0.108613</td>\n",
       "      <td>-0.003487</td>\n",
       "    </tr>\n",
       "    <tr>\n",
       "      <th>9</th>\n",
       "      <td>0.810373</td>\n",
       "      <td>-0.535436</td>\n",
       "    </tr>\n",
       "  </tbody>\n",
       "</table>\n",
       "</div>"
      ],
      "text/plain": [
       "          C         D\n",
       "5  1.278975  1.122799\n",
       "6  0.454247  0.141990\n",
       "7  0.227862  1.092590\n",
       "8 -0.108613 -0.003487\n",
       "9  0.810373 -0.535436"
      ]
     },
     "execution_count": 56,
     "metadata": {},
     "output_type": "execute_result"
    }
   ],
   "source": [
    "df1 = pd.DataFrame({'A': np.random.randn(10), 'B': np.random.randn(10)})  # 随机数据\n",
    "df2 = pd.DataFrame({'C': np.random.randn(10), 'D': np.random.randn(10)})  # 随机数据\n",
    "\n",
    "df1.to_hdf('test.h5', key='df1')  # 存储 df1\n",
    "df2.to_hdf('test.h5', key='df2', format='table')  # 存储 df2 \n",
    "# 读取 df2 中 index < 5 的数据\n",
    "df3 = pd.read_hdf('test.h5', key='df2', where=['index < 5'])\n",
    "df3"
   ]
  },
  {
   "cell_type": "code",
   "execution_count": 60,
   "metadata": {},
   "outputs": [
    {
     "data": {
      "text/plain": [
       "'十里店'"
      ]
     },
     "execution_count": 60,
     "metadata": {},
     "output_type": "execute_result"
    }
   ],
   "source": [
    "obj = \"\"\" \n",
    "[\n",
    "    {\n",
    "        \"aqi\": 46,\n",
    "        \"area\": \"成都\",\n",
    "        \"pm2_5\": 32,\n",
    "        \"pm2_5_24h\": 33,\n",
    "        \"position_name\": \"金泉两河\",\n",
    "        \"primary_pollutant\": null,\n",
    "        \"quality\": \"优\",\n",
    "        \"station_code\": \"1431A\",\n",
    "        \"time_point\": \"2018-09-05T09:00:00Z\"\n",
    "    },\n",
    "    {\n",
    "        \"aqi\": 29,\n",
    "        \"area\": \"成都\",\n",
    "        \"pm2_5\": 20,\n",
    "        \"pm2_5_24h\": 26,\n",
    "        \"position_name\": \"十里店\",\n",
    "        \"primary_pollutant\": null,\n",
    "        \"quality\": \"优\",\n",
    "        \"station_code\": \"1432A\",\n",
    "        \"time_point\": \"2018-09-05T09:00:00Z\"\n",
    "    }\n",
    "]\n",
    "\"\"\"\n",
    "pd.read_json(obj)\n",
    "import json\n",
    "\n",
    "obj = json.loads(obj)\n",
    "obj\n",
    "obj[1]['position_name']\n"
   ]
  },
  {
   "cell_type": "code",
   "execution_count": 5,
   "metadata": {},
   "outputs": [
    {
     "name": "stdout",
     "output_type": "stream",
     "text": [
      "          A         B\n",
      "0 -0.216641 -0.070647\n",
      "1 -0.290099 -1.421058\n",
      "2 -0.455725 -1.013845\n",
      "3  0.669695 -1.043101\n",
      "          A         B\n",
      "4 -0.100036  1.122311\n",
      "5  1.477307  0.057588\n",
      "6 -1.750888 -0.886301\n",
      "7 -1.760984 -1.319301\n",
      "          A         B\n",
      "8  0.583805  0.973186\n",
      "9  0.653308 -0.932173\n"
     ]
    }
   ],
   "source": [
    "chunker = pd.read_csv(\"test.csv\", chunksize=4) # 多少行为一份\n",
    "for i in chunker:\n",
    "    print(i)"
   ]
  },
  {
   "cell_type": "code",
   "execution_count": null,
   "metadata": {},
   "outputs": [],
   "source": []
  }
 ],
 "metadata": {
  "kernelspec": {
   "display_name": "Python 3",
   "language": "python",
   "name": "python3"
  },
  "language_info": {
   "codemirror_mode": {
    "name": "ipython",
    "version": 3
   },
   "file_extension": ".py",
   "mimetype": "text/x-python",
   "name": "python",
   "nbconvert_exporter": "python",
   "pygments_lexer": "ipython3",
   "version": "3.7.3"
  }
 },
 "nbformat": 4,
 "nbformat_minor": 2
}
